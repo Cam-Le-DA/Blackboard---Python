{
 "cells": [
  {
   "cell_type": "code",
   "execution_count": 1,
   "id": "af8d82c7",
   "metadata": {},
   "outputs": [],
   "source": [
    "#Q1 Create a tuple with all participant names in the JDA program\n",
    "\n",
    "group5 = ('Adetunji','Betsy','Cam', 'Hoi','Meisam','Victoria','Yafet')"
   ]
  },
  {
   "cell_type": "code",
   "execution_count": 2,
   "id": "70cbdfa5",
   "metadata": {},
   "outputs": [],
   "source": [
    "#Q2 Convert the tuple into a list called pps_L\n",
    "\n",
    "pps_L = list(group5)"
   ]
  },
  {
   "cell_type": "code",
   "execution_count": 3,
   "id": "6f1897d2",
   "metadata": {},
   "outputs": [
    {
     "data": {
      "text/plain": [
       "7"
      ]
     },
     "execution_count": 3,
     "metadata": {},
     "output_type": "execute_result"
    }
   ],
   "source": [
    "#Q3 What is the length of your list\n",
    "\n",
    "len(pps_L)"
   ]
  },
  {
   "cell_type": "code",
   "execution_count": 4,
   "id": "027c77a1",
   "metadata": {},
   "outputs": [
    {
     "name": "stdout",
     "output_type": "stream",
     "text": [
      "Hoi\n",
      "Victoria\n"
     ]
    }
   ],
   "source": [
    "#Q4 Find the values stored in indexes [3],[5],[14],[30],[38]\n",
    "\n",
    "myindex = [3, 5, 14, 30, 38]\n",
    "for i in myindex:\n",
    "    if i in range(len(pps_L)):\n",
    "        print(pps_L[i])        "
   ]
  },
  {
   "cell_type": "code",
   "execution_count": 5,
   "id": "111f5b5d",
   "metadata": {},
   "outputs": [
    {
     "name": "stdout",
     "output_type": "stream",
     "text": [
      "False\n"
     ]
    }
   ],
   "source": [
    "#Q5 Check if \"Sarah\" is in the list\n",
    "print('Sarah' in pps_L)"
   ]
  },
  {
   "cell_type": "code",
   "execution_count": 6,
   "id": "bd99accb",
   "metadata": {},
   "outputs": [],
   "source": [
    "#Q6 Add \"Sarah\" to your list\n",
    "pps_L.append('Sarah')"
   ]
  },
  {
   "cell_type": "code",
   "execution_count": 7,
   "id": "d26dadff",
   "metadata": {},
   "outputs": [
    {
     "name": "stdout",
     "output_type": "stream",
     "text": [
      "False\n"
     ]
    }
   ],
   "source": [
    "#Q7 Check if \"Bashir\" is in the list\n",
    "print('Bashir' in pps_L)"
   ]
  },
  {
   "cell_type": "code",
   "execution_count": 9,
   "id": "00689167",
   "metadata": {},
   "outputs": [],
   "source": [
    "#Q9 Add \"Bashir\" to your list\n",
    "pps_L.append('Bashir')"
   ]
  },
  {
   "cell_type": "code",
   "execution_count": 10,
   "id": "01dda078",
   "metadata": {},
   "outputs": [
    {
     "data": {
      "text/plain": [
       "7"
      ]
     },
     "execution_count": 10,
     "metadata": {},
     "output_type": "execute_result"
    }
   ],
   "source": [
    "#Q10 Find the index of the element \"Sarah\" in the list\n",
    "pps_L.index('Sarah')"
   ]
  },
  {
   "cell_type": "code",
   "execution_count": 11,
   "id": "0c6bcf98",
   "metadata": {},
   "outputs": [
    {
     "name": "stdout",
     "output_type": "stream",
     "text": [
      "['Adetunji', 'Betsy', 'Cam', 'Hoi', 'Meisam', 'Victoria', 'Yafet', 'Instructor', 'Bashir']\n"
     ]
    }
   ],
   "source": [
    "#Q11 Change the value of the index in Q10 from \"Sarah\" to \"Instructor\"\n",
    "pps_L[7] = 'Instructor'\n",
    "print(pps_L)"
   ]
  },
  {
   "cell_type": "code",
   "execution_count": 12,
   "id": "65a24763",
   "metadata": {},
   "outputs": [
    {
     "data": {
      "text/plain": [
       "8"
      ]
     },
     "execution_count": 12,
     "metadata": {},
     "output_type": "execute_result"
    }
   ],
   "source": [
    "#Q12 Find the index of the element \"Bashir\" in the list\n",
    "pps_L.index('Bashir')"
   ]
  },
  {
   "cell_type": "code",
   "execution_count": 13,
   "id": "4e0e638f",
   "metadata": {},
   "outputs": [
    {
     "name": "stdout",
     "output_type": "stream",
     "text": [
      "['Adetunji', 'Betsy', 'Cam', 'Hoi', 'Meisam', 'Victoria', 'Yafet', 'Instructor', 'Peer-Mentor']\n"
     ]
    }
   ],
   "source": [
    "#Q13 Change the value of the index in Q12 from \"Bashir\" to \"Peer-Mentor\"\n",
    "pps_L[8] = 'Peer-Mentor'\n",
    "print(pps_L)"
   ]
  },
  {
   "cell_type": "code",
   "execution_count": null,
   "id": "7a43f8df",
   "metadata": {},
   "outputs": [],
   "source": []
  }
 ],
 "metadata": {
  "kernelspec": {
   "display_name": "Python 3 (ipykernel)",
   "language": "python",
   "name": "python3"
  },
  "language_info": {
   "codemirror_mode": {
    "name": "ipython",
    "version": 3
   },
   "file_extension": ".py",
   "mimetype": "text/x-python",
   "name": "python",
   "nbconvert_exporter": "python",
   "pygments_lexer": "ipython3",
   "version": "3.9.12"
  }
 },
 "nbformat": 4,
 "nbformat_minor": 5
}
