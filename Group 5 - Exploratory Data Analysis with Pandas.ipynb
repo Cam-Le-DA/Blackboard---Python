{
 "cells": [
  {
   "cell_type": "code",
   "execution_count": 1,
   "id": "8968e2b7",
   "metadata": {},
   "outputs": [
    {
     "data": {
      "text/html": [
       "<div>\n",
       "<style scoped>\n",
       "    .dataframe tbody tr th:only-of-type {\n",
       "        vertical-align: middle;\n",
       "    }\n",
       "\n",
       "    .dataframe tbody tr th {\n",
       "        vertical-align: top;\n",
       "    }\n",
       "\n",
       "    .dataframe thead th {\n",
       "        text-align: right;\n",
       "    }\n",
       "</style>\n",
       "<table border=\"1\" class=\"dataframe\">\n",
       "  <thead>\n",
       "    <tr style=\"text-align: right;\">\n",
       "      <th></th>\n",
       "      <th>age</th>\n",
       "      <th>workclass</th>\n",
       "      <th>fnlwgt</th>\n",
       "      <th>education</th>\n",
       "      <th>educational-num</th>\n",
       "      <th>marital-status</th>\n",
       "      <th>occupation</th>\n",
       "      <th>relationship</th>\n",
       "      <th>race</th>\n",
       "      <th>gender</th>\n",
       "      <th>capital-gain</th>\n",
       "      <th>capital-loss</th>\n",
       "      <th>hours-per-week</th>\n",
       "      <th>native-country</th>\n",
       "      <th>income</th>\n",
       "    </tr>\n",
       "  </thead>\n",
       "  <tbody>\n",
       "    <tr>\n",
       "      <th>0</th>\n",
       "      <td>39</td>\n",
       "      <td>State-gov</td>\n",
       "      <td>77516</td>\n",
       "      <td>Bachelors</td>\n",
       "      <td>13</td>\n",
       "      <td>Never-married</td>\n",
       "      <td>Adm-clerical</td>\n",
       "      <td>Not-in-family</td>\n",
       "      <td>White</td>\n",
       "      <td>Male</td>\n",
       "      <td>2174</td>\n",
       "      <td>0</td>\n",
       "      <td>40</td>\n",
       "      <td>United-States</td>\n",
       "      <td>&lt;=50K</td>\n",
       "    </tr>\n",
       "    <tr>\n",
       "      <th>1</th>\n",
       "      <td>50</td>\n",
       "      <td>Self-emp-not-inc</td>\n",
       "      <td>83311</td>\n",
       "      <td>Bachelors</td>\n",
       "      <td>13</td>\n",
       "      <td>Married-civ-spouse</td>\n",
       "      <td>Exec-managerial</td>\n",
       "      <td>Husband</td>\n",
       "      <td>White</td>\n",
       "      <td>Male</td>\n",
       "      <td>0</td>\n",
       "      <td>0</td>\n",
       "      <td>13</td>\n",
       "      <td>United-States</td>\n",
       "      <td>&lt;=50K</td>\n",
       "    </tr>\n",
       "    <tr>\n",
       "      <th>2</th>\n",
       "      <td>38</td>\n",
       "      <td>Private</td>\n",
       "      <td>215646</td>\n",
       "      <td>HS-grad</td>\n",
       "      <td>9</td>\n",
       "      <td>Divorced</td>\n",
       "      <td>Handlers-cleaners</td>\n",
       "      <td>Not-in-family</td>\n",
       "      <td>White</td>\n",
       "      <td>Male</td>\n",
       "      <td>0</td>\n",
       "      <td>0</td>\n",
       "      <td>40</td>\n",
       "      <td>United-States</td>\n",
       "      <td>&lt;=50K</td>\n",
       "    </tr>\n",
       "    <tr>\n",
       "      <th>3</th>\n",
       "      <td>53</td>\n",
       "      <td>Private</td>\n",
       "      <td>234721</td>\n",
       "      <td>11th</td>\n",
       "      <td>7</td>\n",
       "      <td>Married-civ-spouse</td>\n",
       "      <td>Handlers-cleaners</td>\n",
       "      <td>Husband</td>\n",
       "      <td>Black</td>\n",
       "      <td>Male</td>\n",
       "      <td>0</td>\n",
       "      <td>0</td>\n",
       "      <td>40</td>\n",
       "      <td>United-States</td>\n",
       "      <td>&lt;=50K</td>\n",
       "    </tr>\n",
       "    <tr>\n",
       "      <th>4</th>\n",
       "      <td>28</td>\n",
       "      <td>Private</td>\n",
       "      <td>338409</td>\n",
       "      <td>Bachelors</td>\n",
       "      <td>13</td>\n",
       "      <td>Married-civ-spouse</td>\n",
       "      <td>Prof-specialty</td>\n",
       "      <td>Wife</td>\n",
       "      <td>Black</td>\n",
       "      <td>Female</td>\n",
       "      <td>0</td>\n",
       "      <td>0</td>\n",
       "      <td>40</td>\n",
       "      <td>Cuba</td>\n",
       "      <td>&lt;=50K</td>\n",
       "    </tr>\n",
       "  </tbody>\n",
       "</table>\n",
       "</div>"
      ],
      "text/plain": [
       "   age         workclass  fnlwgt  education  educational-num  \\\n",
       "0   39         State-gov   77516  Bachelors               13   \n",
       "1   50  Self-emp-not-inc   83311  Bachelors               13   \n",
       "2   38           Private  215646    HS-grad                9   \n",
       "3   53           Private  234721       11th                7   \n",
       "4   28           Private  338409  Bachelors               13   \n",
       "\n",
       "       marital-status         occupation   relationship   race  gender  \\\n",
       "0       Never-married       Adm-clerical  Not-in-family  White    Male   \n",
       "1  Married-civ-spouse    Exec-managerial        Husband  White    Male   \n",
       "2            Divorced  Handlers-cleaners  Not-in-family  White    Male   \n",
       "3  Married-civ-spouse  Handlers-cleaners        Husband  Black    Male   \n",
       "4  Married-civ-spouse     Prof-specialty           Wife  Black  Female   \n",
       "\n",
       "   capital-gain  capital-loss  hours-per-week native-country income  \n",
       "0          2174             0              40  United-States  <=50K  \n",
       "1             0             0              13  United-States  <=50K  \n",
       "2             0             0              40  United-States  <=50K  \n",
       "3             0             0              40  United-States  <=50K  \n",
       "4             0             0              40           Cuba  <=50K  "
      ]
     },
     "execution_count": 1,
     "metadata": {},
     "output_type": "execute_result"
    }
   ],
   "source": [
    "import pandas as pd\n",
    "import numpy as np\n",
    "\n",
    "df = pd.read_csv('adult.csv')\n",
    "df.head()"
   ]
  },
  {
   "cell_type": "code",
   "execution_count": 2,
   "id": "c4be1a1e",
   "metadata": {},
   "outputs": [
    {
     "data": {
      "text/plain": [
       "age                 int64\n",
       "workclass          object\n",
       "fnlwgt              int64\n",
       "education          object\n",
       "educational-num     int64\n",
       "marital-status     object\n",
       "occupation         object\n",
       "relationship       object\n",
       "race               object\n",
       "gender             object\n",
       "capital-gain        int64\n",
       "capital-loss        int64\n",
       "hours-per-week      int64\n",
       "native-country     object\n",
       "income             object\n",
       "dtype: object"
      ]
     },
     "execution_count": 2,
     "metadata": {},
     "output_type": "execute_result"
    }
   ],
   "source": [
    "df.dtypes"
   ]
  },
  {
   "cell_type": "code",
   "execution_count": 3,
   "id": "469adc90",
   "metadata": {},
   "outputs": [
    {
     "data": {
      "text/plain": [
       "age                0\n",
       "workclass          0\n",
       "fnlwgt             0\n",
       "education          0\n",
       "educational-num    0\n",
       "marital-status     0\n",
       "occupation         0\n",
       "relationship       0\n",
       "race               0\n",
       "gender             0\n",
       "capital-gain       0\n",
       "capital-loss       0\n",
       "hours-per-week     0\n",
       "native-country     0\n",
       "income             0\n",
       "dtype: int64"
      ]
     },
     "execution_count": 3,
     "metadata": {},
     "output_type": "execute_result"
    }
   ],
   "source": [
    "# First we look for missing values\n",
    "df.isnull().sum()"
   ]
  },
  {
   "cell_type": "code",
   "execution_count": 4,
   "id": "81dbb086",
   "metadata": {},
   "outputs": [
    {
     "data": {
      "text/plain": [
       "age                   0\n",
       "workclass          1836\n",
       "fnlwgt                0\n",
       "education             0\n",
       "educational-num       0\n",
       "marital-status        0\n",
       "occupation         1843\n",
       "relationship          0\n",
       "race                  0\n",
       "gender                0\n",
       "capital-gain          0\n",
       "capital-loss          0\n",
       "hours-per-week        0\n",
       "native-country      583\n",
       "income                0\n",
       "dtype: int64"
      ]
     },
     "execution_count": 4,
     "metadata": {},
     "output_type": "execute_result"
    }
   ],
   "source": [
    "# Replace '?' with nan\n",
    "df.replace('?', np.nan, inplace = True)\n",
    "df.isnull().sum()"
   ]
  },
  {
   "cell_type": "code",
   "execution_count": 5,
   "id": "3603c9a2",
   "metadata": {},
   "outputs": [
    {
     "data": {
      "text/html": [
       "<div>\n",
       "<style scoped>\n",
       "    .dataframe tbody tr th:only-of-type {\n",
       "        vertical-align: middle;\n",
       "    }\n",
       "\n",
       "    .dataframe tbody tr th {\n",
       "        vertical-align: top;\n",
       "    }\n",
       "\n",
       "    .dataframe thead th {\n",
       "        text-align: right;\n",
       "    }\n",
       "</style>\n",
       "<table border=\"1\" class=\"dataframe\">\n",
       "  <thead>\n",
       "    <tr style=\"text-align: right;\">\n",
       "      <th></th>\n",
       "      <th>workclass</th>\n",
       "      <th>education</th>\n",
       "      <th>marital-status</th>\n",
       "      <th>occupation</th>\n",
       "      <th>relationship</th>\n",
       "      <th>race</th>\n",
       "      <th>gender</th>\n",
       "      <th>native-country</th>\n",
       "      <th>income</th>\n",
       "    </tr>\n",
       "  </thead>\n",
       "  <tbody>\n",
       "    <tr>\n",
       "      <th>count</th>\n",
       "      <td>30725</td>\n",
       "      <td>32561</td>\n",
       "      <td>32561</td>\n",
       "      <td>30718</td>\n",
       "      <td>32561</td>\n",
       "      <td>32561</td>\n",
       "      <td>32561</td>\n",
       "      <td>31978</td>\n",
       "      <td>32561</td>\n",
       "    </tr>\n",
       "    <tr>\n",
       "      <th>unique</th>\n",
       "      <td>8</td>\n",
       "      <td>16</td>\n",
       "      <td>7</td>\n",
       "      <td>14</td>\n",
       "      <td>6</td>\n",
       "      <td>5</td>\n",
       "      <td>2</td>\n",
       "      <td>41</td>\n",
       "      <td>2</td>\n",
       "    </tr>\n",
       "    <tr>\n",
       "      <th>top</th>\n",
       "      <td>Private</td>\n",
       "      <td>HS-grad</td>\n",
       "      <td>Married-civ-spouse</td>\n",
       "      <td>Prof-specialty</td>\n",
       "      <td>Husband</td>\n",
       "      <td>White</td>\n",
       "      <td>Male</td>\n",
       "      <td>United-States</td>\n",
       "      <td>&lt;=50K</td>\n",
       "    </tr>\n",
       "    <tr>\n",
       "      <th>freq</th>\n",
       "      <td>22696</td>\n",
       "      <td>10501</td>\n",
       "      <td>14976</td>\n",
       "      <td>4140</td>\n",
       "      <td>13193</td>\n",
       "      <td>27816</td>\n",
       "      <td>21790</td>\n",
       "      <td>29170</td>\n",
       "      <td>24720</td>\n",
       "    </tr>\n",
       "  </tbody>\n",
       "</table>\n",
       "</div>"
      ],
      "text/plain": [
       "       workclass education      marital-status      occupation relationship  \\\n",
       "count      30725     32561               32561           30718        32561   \n",
       "unique         8        16                   7              14            6   \n",
       "top      Private   HS-grad  Married-civ-spouse  Prof-specialty      Husband   \n",
       "freq       22696     10501               14976            4140        13193   \n",
       "\n",
       "         race gender native-country income  \n",
       "count   32561  32561          31978  32561  \n",
       "unique      5      2             41      2  \n",
       "top     White   Male  United-States  <=50K  \n",
       "freq    27816  21790          29170  24720  "
      ]
     },
     "execution_count": 5,
     "metadata": {},
     "output_type": "execute_result"
    }
   ],
   "source": [
    "df.describe(include=['object'])"
   ]
  },
  {
   "cell_type": "code",
   "execution_count": 6,
   "id": "f20b4fe3",
   "metadata": {},
   "outputs": [
    {
     "data": {
      "text/plain": [
       "age                0\n",
       "workclass          0\n",
       "fnlwgt             0\n",
       "education          0\n",
       "educational-num    0\n",
       "marital-status     0\n",
       "occupation         0\n",
       "relationship       0\n",
       "race               0\n",
       "gender             0\n",
       "capital-gain       0\n",
       "capital-loss       0\n",
       "hours-per-week     0\n",
       "native-country     0\n",
       "income             0\n",
       "dtype: int64"
      ]
     },
     "execution_count": 6,
     "metadata": {},
     "output_type": "execute_result"
    }
   ],
   "source": [
    "# Replace nan value for column workclass, occupation & native-country\n",
    "df['workclass'].replace(np.nan, 'Private', inplace = True)\n",
    "df['occupation'].replace(np.nan, 'Prof-specialty', inplace = True)\n",
    "df['native-country'].replace(np.nan, 'United-States', inplace = True)\n",
    "\n",
    "df.isnull().sum()"
   ]
  },
  {
   "cell_type": "code",
   "execution_count": 7,
   "id": "9837f896",
   "metadata": {},
   "outputs": [
    {
     "name": "stdout",
     "output_type": "stream",
     "text": [
      "age                32561\n",
      "workclass          32561\n",
      "fnlwgt             32561\n",
      "education          32561\n",
      "educational-num    32561\n",
      "marital-status     32561\n",
      "occupation         32561\n",
      "relationship       32561\n",
      "race               32561\n",
      "gender             32561\n",
      "capital-gain       32561\n",
      "capital-loss       32561\n",
      "hours-per-week     32561\n",
      "native-country     32561\n",
      "income             32561\n",
      "dtype: int64\n",
      "age                32537\n",
      "workclass          32537\n",
      "fnlwgt             32537\n",
      "education          32537\n",
      "educational-num    32537\n",
      "marital-status     32537\n",
      "occupation         32537\n",
      "relationship       32537\n",
      "race               32537\n",
      "gender             32537\n",
      "capital-gain       32537\n",
      "capital-loss       32537\n",
      "hours-per-week     32537\n",
      "native-country     32537\n",
      "income             32537\n",
      "dtype: int64\n"
     ]
    }
   ],
   "source": [
    "# Remove duplicate data\n",
    "print(df.count())\n",
    "\n",
    "df = df.drop_duplicates()\n",
    "print(df.count())"
   ]
  },
  {
   "cell_type": "code",
   "execution_count": 8,
   "id": "90e1a8da",
   "metadata": {},
   "outputs": [
    {
     "data": {
      "text/plain": [
       "Male      21775\n",
       "Female    10762\n",
       "Name: gender, dtype: int64"
      ]
     },
     "execution_count": 8,
     "metadata": {},
     "output_type": "execute_result"
    }
   ],
   "source": [
    "# 1. How many men and women (sex feature) are represented in this dataset?\n",
    "df['gender'].value_counts()"
   ]
  },
  {
   "cell_type": "code",
   "execution_count": 9,
   "id": "5970dac5",
   "metadata": {},
   "outputs": [
    {
     "data": {
      "text/plain": [
       "gender       Female\n",
       "age       36.864709\n",
       "Name: 0, dtype: object"
      ]
     },
     "execution_count": 9,
     "metadata": {},
     "output_type": "execute_result"
    }
   ],
   "source": [
    "# 2. What is the average age (age feature) of women?\n",
    "df_group = df[['gender', 'age']]\n",
    "df_group = df_group.groupby(['gender'], as_index = False).mean()\n",
    "df_group.iloc[0]"
   ]
  },
  {
   "cell_type": "code",
   "execution_count": 10,
   "id": "9b673998",
   "metadata": {},
   "outputs": [
    {
     "name": "stdout",
     "output_type": "stream",
     "text": [
      "Germany: 0.4210591019454774\n"
     ]
    }
   ],
   "source": [
    "# 3. What is the percentage of German citizens (native-country feature)?\n",
    "x= df['native-country'].value_counts()/df['native-country'].count() * 100\n",
    "\n",
    "print('Germany:', x['Germany'])"
   ]
  },
  {
   "cell_type": "code",
   "execution_count": 79,
   "id": "1f4c8009",
   "metadata": {},
   "outputs": [
    {
     "name": "stdout",
     "output_type": "stream",
     "text": [
      "Those who earn more than 50K:\n",
      "Mean: 44.25092486286516\n",
      "Standard deviation: 10.52010208815647\n",
      "\n",
      "Those who earn less than 50K:\n",
      "Mean: 36.78739169163495\n",
      "Standard deviation: 14.017334627959187\n"
     ]
    }
   ],
   "source": [
    "# 4. What are the mean and standard deviation of age for those who earn more than 50K per year (salary feature) and those\n",
    "# who earn less than 50K per year?\n",
    "print('Those who earn more than 50K:')\n",
    "print('Mean:', df.loc[df['income'] == '>50K','age'].mean())\n",
    "print('Standard deviation:', df.loc[df['income'] == '>50K', 'age'].std())\n",
    "print('')\n",
    "print('Those who earn less than 50K:')\n",
    "print('Mean:', df.loc[df['income'] == '<=50K', 'age'].mean())\n",
    "print('Standard deviation:', df.loc[df['income'] == '<=50K', 'age'].std())"
   ]
  },
  {
   "cell_type": "code",
   "execution_count": 82,
   "id": "8c3d489d",
   "metadata": {},
   "outputs": [
    {
     "data": {
      "text/plain": [
       "Bachelors       2221\n",
       "HS-grad         1674\n",
       "Some-college    1386\n",
       "Masters          959\n",
       "Prof-school      423\n",
       "Assoc-voc        361\n",
       "Doctorate        306\n",
       "Assoc-acdm       265\n",
       "10th              62\n",
       "11th              60\n",
       "7th-8th           40\n",
       "12th              33\n",
       "9th               27\n",
       "5th-6th           16\n",
       "1st-4th            6\n",
       "Name: education, dtype: int64"
      ]
     },
     "execution_count": 82,
     "metadata": {},
     "output_type": "execute_result"
    }
   ],
   "source": [
    "# 5. Is it true that people who earn more than 50K have at least a high school education? (education – Bachelors, Prof-school, \n",
    "# Assoc-acdm, Assoc-voc, Masters or Doctorate feature)\n",
    "\n",
    "df.loc[df['income'] == '>50K','education'].value_counts()"
   ]
  },
  {
   "cell_type": "markdown",
   "id": "af93a991",
   "metadata": {},
   "source": [
    "No, it's not true that people who earn more than 50K have at least a high school education"
   ]
  },
  {
   "cell_type": "code",
   "execution_count": 84,
   "id": "ed8a8371",
   "metadata": {},
   "outputs": [
    {
     "name": "stdout",
     "output_type": "stream",
     "text": [
      "                               age                                          \\\n",
      "                             count       mean        std   min   25%   50%   \n",
      "race               gender                                                    \n",
      "Amer-Indian-Eskimo Female    119.0  37.117647  13.114991  17.0  27.0  36.0   \n",
      "                   Male      192.0  37.208333  12.049563  17.0  28.0  35.0   \n",
      "Asian-Pac-Islander Female    346.0  35.089595  12.300845  17.0  25.0  33.0   \n",
      "                   Male      692.0  39.000000  12.746669  18.0  29.0  37.0   \n",
      "Black              Female   1555.0  37.854019  12.637197  17.0  28.0  37.0   \n",
      "                   Male     1567.0  37.699426  12.880714  17.0  27.0  36.0   \n",
      "Other              Female    109.0  31.678899  11.631599  17.0  23.0  29.0   \n",
      "                   Male      162.0  34.654321  11.355531  17.0  26.0  32.0   \n",
      "White              Female   8633.0  36.819646  14.331045  17.0  25.0  35.0   \n",
      "                   Male    19162.0  39.656560  13.436249  17.0  29.0  38.0   \n",
      "\n",
      "                                        \n",
      "                             75%   max  \n",
      "race               gender               \n",
      "Amer-Indian-Eskimo Female  46.00  80.0  \n",
      "                   Male    45.00  82.0  \n",
      "Asian-Pac-Islander Female  43.75  75.0  \n",
      "                   Male    46.00  90.0  \n",
      "Black              Female  46.00  90.0  \n",
      "                   Male    46.00  90.0  \n",
      "Other              Female  39.00  74.0  \n",
      "                   Male    42.00  77.0  \n",
      "White              Female  46.00  90.0  \n",
      "                   Male    49.00  90.0  \n"
     ]
    }
   ],
   "source": [
    "# 6. Display age statistics for each race (race feature) and each gender (sex feature). Use groupby() and describe(). Find\n",
    "# the maximum age of men of Amer-Indian-Eskimo race.\n",
    "my_dfgroup = df[['age', 'race', 'gender']]\n",
    "print(my_dfgroup.groupby(['race', 'gender']).describe())"
   ]
  },
  {
   "cell_type": "markdown",
   "id": "562c78b1",
   "metadata": {},
   "source": [
    "The maximum age of men of Amer-Indian-Eskimo race is 82.0"
   ]
  },
  {
   "cell_type": "code",
   "execution_count": 85,
   "id": "2e12bcb0",
   "metadata": {},
   "outputs": [
    {
     "data": {
      "text/plain": [
       "array(['Never-married', 'Married-civ-spouse', 'Divorced',\n",
       "       'Married-spouse-absent', 'Separated', 'Married-AF-spouse',\n",
       "       'Widowed'], dtype=object)"
      ]
     },
     "execution_count": 85,
     "metadata": {},
     "output_type": "execute_result"
    }
   ],
   "source": [
    "# 7. Among whom is the proportion of those who earn a lot (>50K) greater: married or single men (marital-status feature)? \n",
    "# Consider as married those who have a marital-status starting with Married (Married-civ-spouse, Married-spouse-absent or \n",
    "# Married-AF-spouse), the rest are considered bachelors.\n",
    "\n",
    "df['marital-status'].unique()"
   ]
  },
  {
   "cell_type": "code",
   "execution_count": 87,
   "id": "4260c585",
   "metadata": {},
   "outputs": [
    {
     "data": {
      "text/plain": [
       "Bachelors    17126\n",
       "Married      15411\n",
       "Name: status, dtype: int64"
      ]
     },
     "execution_count": 87,
     "metadata": {},
     "output_type": "execute_result"
    }
   ],
   "source": [
    "mapping={'Never-married':'Bachelors', 'Divorced':'Bachelors','Separated':'Bachelors','Widowed':'Bachelors',\n",
    "         'Married-civ-spouse':'Married', 'Married-spouse-absent':'Married','Married-AF-spouse':'Married'}\n",
    "\n",
    "df['status'] = df['marital-status'].map(mapping)\n",
    "df['status'].value_counts()"
   ]
  },
  {
   "cell_type": "code",
   "execution_count": 93,
   "id": "ce3d465c",
   "metadata": {},
   "outputs": [
    {
     "name": "stdout",
     "output_type": "stream",
     "text": [
      "Married      6734\n",
      "Bachelors    1105\n",
      "Name: status, dtype: int64\n"
     ]
    }
   ],
   "source": [
    "print(df.loc[df['income'] == '>50K', 'status'].value_counts())"
   ]
  },
  {
   "cell_type": "code",
   "execution_count": 110,
   "id": "7593d0da",
   "metadata": {},
   "outputs": [
    {
     "name": "stdout",
     "output_type": "stream",
     "text": [
      "Maximum number of hours: 99\n"
     ]
    }
   ],
   "source": [
    "# 8. What is the maximum number of hours a person works per week (hours-per-week feature)? How many people work such a number\n",
    "# of hours, and what is the percentage of those who earn a lot (>50K) among them?\n",
    "x = df['hours-per-week'].max()\n",
    "print('Maximum number of hours:', x)"
   ]
  },
  {
   "cell_type": "code",
   "execution_count": 126,
   "id": "948fa5ef",
   "metadata": {},
   "outputs": [
    {
     "name": "stdout",
     "output_type": "stream",
     "text": [
      "Number of people: 85\n"
     ]
    }
   ],
   "source": [
    "y = df.loc[df['hours-per-week'] == x,'hours-per-week'].count()\n",
    "print('Number of people:', y)"
   ]
  },
  {
   "cell_type": "code",
   "execution_count": 131,
   "id": "ba8bad91",
   "metadata": {},
   "outputs": [
    {
     "name": "stdout",
     "output_type": "stream",
     "text": [
      "The percentage of rich people: 29.411764705882355\n"
     ]
    }
   ],
   "source": [
    "print('The percentage of rich people:', df[(df['hours-per-week'] == x) &  (df['income'] == '>50K')].shape[0] / y * 100)"
   ]
  },
  {
   "cell_type": "code",
   "execution_count": 141,
   "id": "93e7861b",
   "metadata": {},
   "outputs": [
    {
     "name": "stdout",
     "output_type": "stream",
     "text": [
      "Average time of work:\n",
      "   income   native-country  hours-per-week\n",
      "0   <=50K         Cambodia       41.416667\n",
      "1   <=50K           Canada       37.914634\n",
      "2   <=50K            China       37.381818\n",
      "3   <=50K         Columbia       38.684211\n",
      "4   <=50K             Cuba       37.985714\n",
      "..    ...              ...             ...\n",
      "75   >50K         Thailand       58.333333\n",
      "76   >50K  Trinadad&Tobago       40.000000\n",
      "77   >50K    United-States       45.506630\n",
      "78   >50K          Vietnam       39.200000\n",
      "79   >50K       Yugoslavia       49.500000\n",
      "\n",
      "[80 rows x 3 columns]\n"
     ]
    }
   ],
   "source": [
    "# 9. Count the average time of work (hours-per-week) for those who earn a little and a lot (salary) for each country \n",
    "# (native-country). What will these be for Japan?\n",
    "mygroup = df[['hours-per-week', 'income', 'native-country']]\n",
    "x = mygroup.groupby(['income','native-country'], as_index = False).mean()\n",
    "print('Average time of work:')\n",
    "print(x)"
   ]
  },
  {
   "cell_type": "code",
   "execution_count": 142,
   "id": "7f828153",
   "metadata": {},
   "outputs": [
    {
     "name": "stdout",
     "output_type": "stream",
     "text": [
      "['<=50K', 'Japan', 41.0]\n",
      "['>50K', 'Japan', 47.958333333333336]\n"
     ]
    }
   ],
   "source": [
    "for row in x.values.tolist():\n",
    "    if row[1] == 'Japan':\n",
    "        print(row)"
   ]
  },
  {
   "cell_type": "code",
   "execution_count": 147,
   "id": "fbed425f",
   "metadata": {},
   "outputs": [
    {
     "data": {
      "text/html": [
       "<div>\n",
       "<style scoped>\n",
       "    .dataframe tbody tr th:only-of-type {\n",
       "        vertical-align: middle;\n",
       "    }\n",
       "\n",
       "    .dataframe tbody tr th {\n",
       "        vertical-align: top;\n",
       "    }\n",
       "\n",
       "    .dataframe thead th {\n",
       "        text-align: right;\n",
       "    }\n",
       "</style>\n",
       "<table border=\"1\" class=\"dataframe\">\n",
       "  <thead>\n",
       "    <tr style=\"text-align: right;\">\n",
       "      <th></th>\n",
       "      <th>hours-per-week</th>\n",
       "    </tr>\n",
       "    <tr>\n",
       "      <th>occupation</th>\n",
       "      <th></th>\n",
       "    </tr>\n",
       "  </thead>\n",
       "  <tbody>\n",
       "    <tr>\n",
       "      <th>Adm-clerical</th>\n",
       "      <td>141545</td>\n",
       "    </tr>\n",
       "    <tr>\n",
       "      <th>Armed-Forces</th>\n",
       "      <td>366</td>\n",
       "    </tr>\n",
       "    <tr>\n",
       "      <th>Craft-repair</th>\n",
       "      <td>173205</td>\n",
       "    </tr>\n",
       "    <tr>\n",
       "      <th>Exec-managerial</th>\n",
       "      <td>182890</td>\n",
       "    </tr>\n",
       "    <tr>\n",
       "      <th>Farming-fishing</th>\n",
       "      <td>46618</td>\n",
       "    </tr>\n",
       "    <tr>\n",
       "      <th>Handlers-cleaners</th>\n",
       "      <td>51933</td>\n",
       "    </tr>\n",
       "    <tr>\n",
       "      <th>Machine-op-inspct</th>\n",
       "      <td>81505</td>\n",
       "    </tr>\n",
       "    <tr>\n",
       "      <th>Other-service</th>\n",
       "      <td>114213</td>\n",
       "    </tr>\n",
       "    <tr>\n",
       "      <th>Priv-house-serv</th>\n",
       "      <td>4820</td>\n",
       "    </tr>\n",
       "    <tr>\n",
       "      <th>Prof-specialty</th>\n",
       "      <td>234139</td>\n",
       "    </tr>\n",
       "    <tr>\n",
       "      <th>Protective-serv</th>\n",
       "      <td>27823</td>\n",
       "    </tr>\n",
       "    <tr>\n",
       "      <th>Sales</th>\n",
       "      <td>148851</td>\n",
       "    </tr>\n",
       "    <tr>\n",
       "      <th>Tech-support</th>\n",
       "      <td>36583</td>\n",
       "    </tr>\n",
       "    <tr>\n",
       "      <th>Transport-moving</th>\n",
       "      <td>71316</td>\n",
       "    </tr>\n",
       "  </tbody>\n",
       "</table>\n",
       "</div>"
      ],
      "text/plain": [
       "                   hours-per-week\n",
       "occupation                       \n",
       "Adm-clerical               141545\n",
       "Armed-Forces                  366\n",
       "Craft-repair               173205\n",
       "Exec-managerial            182890\n",
       "Farming-fishing             46618\n",
       "Handlers-cleaners           51933\n",
       "Machine-op-inspct           81505\n",
       "Other-service              114213\n",
       "Priv-house-serv              4820\n",
       "Prof-specialty             234139\n",
       "Protective-serv             27823\n",
       "Sales                      148851\n",
       "Tech-support                36583\n",
       "Transport-moving            71316"
      ]
     },
     "execution_count": 147,
     "metadata": {},
     "output_type": "execute_result"
    }
   ],
   "source": [
    "# 10. Find out the total number of hours worked and mean salary as per different occupations.\n",
    "x = df[['occupation','hours-per-week']]\n",
    "x.groupby(['occupation']).sum()"
   ]
  },
  {
   "cell_type": "code",
   "execution_count": null,
   "id": "0c82b356",
   "metadata": {},
   "outputs": [],
   "source": []
  }
 ],
 "metadata": {
  "kernelspec": {
   "display_name": "Python 3 (ipykernel)",
   "language": "python",
   "name": "python3"
  },
  "language_info": {
   "codemirror_mode": {
    "name": "ipython",
    "version": 3
   },
   "file_extension": ".py",
   "mimetype": "text/x-python",
   "name": "python",
   "nbconvert_exporter": "python",
   "pygments_lexer": "ipython3",
   "version": "3.9.12"
  }
 },
 "nbformat": 4,
 "nbformat_minor": 5
}
