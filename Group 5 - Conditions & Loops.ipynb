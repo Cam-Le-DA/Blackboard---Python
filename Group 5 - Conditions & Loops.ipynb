{
 "cells": [
  {
   "cell_type": "code",
   "execution_count": 1,
   "id": "4a10952b",
   "metadata": {},
   "outputs": [
    {
     "name": "stdout",
     "output_type": "stream",
     "text": [
      "Enter the first number: 2\n",
      "Enter the second number: 60\n",
      "True\n"
     ]
    }
   ],
   "source": [
    "#Q1 Given two integer numbers. If any of the numbers are greater than 50 return t\n",
    "#number1 = 20\n",
    "# number2 = 40\n",
    "\n",
    "a = int(input('Enter the first number: '))\n",
    "b = int(input('Enter the second number: '))\n",
    "if a > 50 or b > 50:\n",
    "    print(\"True\")\n",
    "else:\n",
    "    print('False')"
   ]
  },
  {
   "cell_type": "code",
   "execution_count": 2,
   "id": "59971f73",
   "metadata": {},
   "outputs": [
    {
     "name": "stdout",
     "output_type": "stream",
     "text": [
      "Enter the number of elements: 4\n",
      "Enter an element: \n",
      "2\n",
      "Enter an element: \n",
      "3\n",
      "Enter an element: \n",
      "9\n",
      "Enter an element: \n",
      "2\n",
      "[2, 3, 9, 2]\n",
      "True\n"
     ]
    }
   ],
   "source": [
    "#Q2 Given a list of numbers, return True if first and last number of a list is same\n",
    "# list1 =[1,2,5,4,1]\n",
    "\n",
    "n = int(input('Enter the number of elements: '))\n",
    "list1 = []\n",
    "for i in range(n):\n",
    "    print('Enter an element: ')\n",
    "    list1.append(int(input()))\n",
    "    \n",
    "print(list1)\n",
    "if list1[0] == list1[-1]:\n",
    "    print(\"True\")"
   ]
  },
  {
   "cell_type": "code",
   "execution_count": 3,
   "id": "11ef9129",
   "metadata": {},
   "outputs": [
    {
     "name": "stdout",
     "output_type": "stream",
     "text": [
      "[1, 2, 3, 4, 5, 6, 7, 8, 9, 10]\n",
      "the sum is: 1\n",
      "the sum is: 3\n",
      "the sum is: 6\n",
      "the sum is: 10\n",
      "the sum is: 15\n",
      "the sum is: 21\n",
      "the sum is: 28\n",
      "the sum is: 36\n",
      "the sum is: 45\n",
      "the sum is: 55\n"
     ]
    }
   ],
   "source": [
    "#Q3 Given a range of the first 10 numbers[1:10], Iterate from the start number to last number\n",
    "#and In each iteration print the sum of the current number and previous number\n",
    "list1 = list(range(1,11))\n",
    "print(list1)\n",
    "sumi = 0\n",
    "for i in range(len(list1)):\n",
    "    sumi += list1[i]\n",
    "    print('the sum is:', sumi)\n",
    "    if i == len(list1):\n",
    "        break"
   ]
  },
  {
   "cell_type": "code",
   "execution_count": 4,
   "id": "f52a61b4",
   "metadata": {},
   "outputs": [
    {
     "name": "stdout",
     "output_type": "stream",
     "text": [
      "N\n",
      "o\n",
      "e\n",
      "C\n",
      "n\n",
      "d\n"
     ]
    }
   ],
   "source": [
    "#Q4 Given a string name, display only those characters which are present at an even\n",
    "name=\"NPowerCanada\"\n",
    "\n",
    "for i in range(len(name)):\n",
    "    if i % 2 == 0:\n",
    "        print(name[i])"
   ]
  },
  {
   "cell_type": "code",
   "execution_count": 5,
   "id": "68540085",
   "metadata": {},
   "outputs": [
    {
     "name": "stdout",
     "output_type": "stream",
     "text": [
      "ourse\n"
     ]
    }
   ],
   "source": [
    "#Q5 Given a string oldString and an integer number n,\n",
    "#remove characters from a string starting from zero up to n and return a newStrin\n",
    "oldString=\"PythonCourse\"\n",
    "n=6\n",
    "\n",
    "# newString = oldString[n+1:]\n",
    "# print(newString)\n",
    "\n",
    "newString = ''\n",
    "for i in range(len(oldString)):\n",
    "    if i > n:\n",
    "        newString += oldString[i]\n",
    "        \n",
    "print(newString)"
   ]
  },
  {
   "cell_type": "code",
   "execution_count": 6,
   "id": "17d74bb3",
   "metadata": {},
   "outputs": [
    {
     "name": "stdout",
     "output_type": "stream",
     "text": [
      "*\n",
      "**\n",
      "***\n",
      "****\n"
     ]
    }
   ],
   "source": [
    "#Q6 Print the follwoing pattern\n",
    "#*\n",
    "#**\n",
    "#***\n",
    "#****\n",
    "for i in range(1,5):\n",
    "   print(\"*\" * i)"
   ]
  },
  {
   "cell_type": "code",
   "execution_count": 7,
   "id": "eb3d714e",
   "metadata": {},
   "outputs": [
    {
     "name": "stdout",
     "output_type": "stream",
     "text": [
      "[60, 50, 70, 90]\n"
     ]
    }
   ],
   "source": [
    "#Q7 Reverse the following list using for loop\n",
    "list1=[90,70,50,60]\n",
    "newlist = []\n",
    "for i in range(len(list1)):\n",
    "    newlist.append(list1.pop())    \n",
    "print(newlist)"
   ]
  },
  {
   "cell_type": "code",
   "execution_count": 8,
   "id": "ad4ae2c3",
   "metadata": {},
   "outputs": [
    {
     "name": "stdout",
     "output_type": "stream",
     "text": [
      "-10\n",
      "-9\n",
      "-8\n",
      "-7\n",
      "-6\n",
      "-5\n",
      "-4\n",
      "-3\n",
      "-2\n",
      "-1\n"
     ]
    }
   ],
   "source": [
    "#Q8 Display numbers from -10 to -1 using for loop [hint use range method]\n",
    "for i in range(-10,0):\n",
    "    print(i)"
   ]
  },
  {
   "cell_type": "code",
   "execution_count": null,
   "id": "37e3bdb7",
   "metadata": {},
   "outputs": [],
   "source": []
  }
 ],
 "metadata": {
  "kernelspec": {
   "display_name": "Python 3 (ipykernel)",
   "language": "python",
   "name": "python3"
  },
  "language_info": {
   "codemirror_mode": {
    "name": "ipython",
    "version": 3
   },
   "file_extension": ".py",
   "mimetype": "text/x-python",
   "name": "python",
   "nbconvert_exporter": "python",
   "pygments_lexer": "ipython3",
   "version": "3.9.12"
  }
 },
 "nbformat": 4,
 "nbformat_minor": 5
}
