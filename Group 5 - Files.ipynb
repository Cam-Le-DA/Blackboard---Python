{
 "cells": [
  {
   "cell_type": "code",
   "execution_count": 1,
   "id": "2fb0d9f2",
   "metadata": {},
   "outputs": [],
   "source": [
    "#Q1 Create a text file called mytxt.txt\n",
    "# Save the following content in the text file:\n",
    "# \"In this section, we will use Python's built-in open function to create a file,\n",
    "# and obtain the data from a \"txt\" file.\n",
    "# We will use Python's open function to get a file object. \n",
    "# We can apply a method to that object to read data from the file.  \n",
    "# The first argument is the file path, the second parameter is the mode.\""
   ]
  },
  {
   "cell_type": "code",
   "execution_count": 8,
   "id": "6d5d6886",
   "metadata": {},
   "outputs": [
    {
     "name": "stdout",
     "output_type": "stream",
     "text": [
      "\"In this section, we will use Python's built-in open function to create a file, and obtain the data from a \"txt\" file. \n",
      "We will use Python's open function to get a file object.  \n",
      "We can apply a method to that object to read data from the file.   \n",
      "The first argument is the file path, the second parameter is the mode.\" \n",
      "\n"
     ]
    }
   ],
   "source": [
    "#Q1 Write a Python program to read the entire mytxt file\n",
    "\n",
    "with open('mytxt.txt','r') as file:\n",
    "    print(file.read())"
   ]
  },
  {
   "cell_type": "code",
   "execution_count": 9,
   "id": "9cb9bff6",
   "metadata": {},
   "outputs": [
    {
     "name": "stdout",
     "output_type": "stream",
     "text": [
      "We will use Python's open function to get a file object.  \n",
      "\n",
      "We can apply a method to that object to read data from the file.   \n",
      "\n",
      "The first argument is the file path, the second parameter is the mode.\" \n",
      "\n"
     ]
    }
   ],
   "source": [
    "#Q2 Write a Python program to read last 3 lines of mytxt file\n",
    "\n",
    "with open('mytxt.txt','r') as file:\n",
    "    for line in (file.readlines()[-3:]):\n",
    "        print(line)"
   ]
  },
  {
   "cell_type": "code",
   "execution_count": 11,
   "id": "c342b9ea",
   "metadata": {},
   "outputs": [
    {
     "data": {
      "text/plain": [
       "['We can apply a method to that object to read data from the file.   \\n',\n",
       " 'The first argument is the file path, the second parameter is the mode.\" \\n']"
      ]
     },
     "execution_count": 11,
     "metadata": {},
     "output_type": "execute_result"
    }
   ],
   "source": [
    "#Q3 Write a Python program to read last n lines of mytxt file\n",
    "#[Hint: write a function]\n",
    "\n",
    "n=2  \n",
    "textfile = 'mytxt.txt'\n",
    "\n",
    "def read_last_line(textfile, n):\n",
    "    with open('mytxt.txt','r') as file:\n",
    "        linelist = []\n",
    "        for line in (file.readlines()[-n:]):\n",
    "            linelist.append(line)\n",
    "        return linelist\n",
    "\n",
    "read_last_line(textfile, n)"
   ]
  },
  {
   "cell_type": "code",
   "execution_count": 12,
   "id": "ddde08ce",
   "metadata": {},
   "outputs": [
    {
     "name": "stdout",
     "output_type": "stream",
     "text": [
      "4\n"
     ]
    }
   ],
   "source": [
    "#Q4 count the number of lines in mytxt file\n",
    "\n",
    "with open('mytxt.txt') as file:\n",
    "    countline = 0\n",
    "    for line in file.readlines():\n",
    "        countline += 1  \n",
    "\n",
    "    print(countline)    "
   ]
  },
  {
   "cell_type": "code",
   "execution_count": 13,
   "id": "59b83c75",
   "metadata": {},
   "outputs": [
    {
     "name": "stdout",
     "output_type": "stream",
     "text": [
      "['A.txt', 'B.txt', 'C.txt', 'D.txt', 'E.txt', 'F.txt', 'G.txt', 'H.txt', 'I.txt', 'J.txt', 'K.txt', 'L.txt', 'M.txt', 'N.txt', 'O.txt', 'P.txt', 'Q.txt', 'R.txt', 'S.txt', 'T.txt', 'U.txt', 'V.txt', 'W.txt', 'X.txt', 'Y.txt', 'Z.txt']\n"
     ]
    }
   ],
   "source": [
    "#Q5 Write a Python program to generate 26 text files named A.txt, B.txt,...Z.txt\n",
    "\n",
    "from string import ascii_uppercase\n",
    "name = list(ascii_uppercase)\n",
    "newname = []\n",
    "for e in name:\n",
    "    newname.append(e+\".txt\")\n",
    "print(newname)\n",
    "\n",
    "for n in newname:\n",
    "    f = open(n, 'w')"
   ]
  },
  {
   "cell_type": "code",
   "execution_count": 14,
   "id": "7ba918a5",
   "metadata": {},
   "outputs": [
    {
     "name": "stdout",
     "output_type": "stream",
     "text": [
      "\"In this section, we will use Python's built-in open function to create a file, and obtain the data from a \"txt\" file. \n",
      "We will use Python's open function to get a file object.  \n",
      "We can apply a method to that object to read data from the file.   \n",
      "The first argument is the file path, the second parameter is the mode.\" \n",
      "End of file\n"
     ]
    }
   ],
   "source": [
    "#Q6 Write a Python program to append \"End of file\" to mytxt file and\n",
    "# display the text\n",
    "\n",
    "with open('mytxt.txt','a') as file:\n",
    "    file.write('End of file')\n",
    "\n",
    "with open('mytxt.txt') as file:\n",
    "    print(file.read())"
   ]
  },
  {
   "cell_type": "code",
   "execution_count": 19,
   "id": "b761a7b5",
   "metadata": {},
   "outputs": [
    {
     "name": "stdout",
     "output_type": "stream",
     "text": [
      "\"In this section, we will use Python's built-in open function to create a file, and obtain the data from a \"txt\" file. We will use Python's open function to get a file object.  We can apply a method to that object to read data from the file.   The first argument is the file path, the second parameter is the mode.\" End of file of file\n"
     ]
    }
   ],
   "source": [
    "#Q7 Write a Python program to remove newline characters from mytxt file\n",
    "\n",
    "with open('mytxt.txt','r+') as file:\n",
    "    text = file.read().replace('\\n', '')\n",
    "    file.seek(0)\n",
    "    file.write(text)\n",
    "\n",
    "with open('mytxt.txt','r') as file:\n",
    "    print(file.read())"
   ]
  },
  {
   "cell_type": "code",
   "execution_count": 20,
   "id": "c7f32070",
   "metadata": {},
   "outputs": [
    {
     "name": "stdout",
     "output_type": "stream",
     "text": [
      "parameter\n"
     ]
    }
   ],
   "source": [
    "# Q8 Write a python program to find the longest word in mytxt file\n",
    "\n",
    "with open('mytxt.txt','r') as file:\n",
    "    wordList = file.read().split()\n",
    "    \n",
    "print(max(wordList, key=len))"
   ]
  },
  {
   "cell_type": "code",
   "execution_count": 21,
   "id": "5063460c",
   "metadata": {},
   "outputs": [
    {
     "name": "stdout",
     "output_type": "stream",
     "text": [
      "2\n"
     ]
    }
   ],
   "source": [
    "#Q9 Write a Python program to count the frequency \"We\" in mytxt file\n",
    "with open('mytxt.txt','r') as file:\n",
    "    wordList = file.read().split()\n",
    "    \n",
    "print(wordList.count('We'))"
   ]
  },
  {
   "cell_type": "code",
   "execution_count": null,
   "id": "c0389eee",
   "metadata": {},
   "outputs": [],
   "source": [
    "#Q10 Write a Python program to build a sign_Up and login forms for users.\n",
    "#Your program should validate/authenticate entered credentials for existing users \n",
    "#or create new accounts for new users\n",
    "#1 Create \"Credentials.txt\" file\n",
    "#2 Add the following information into your Credentials.txt file <Name, Password>\n",
    "    # Sarah,12ssr\n",
    "    # Lisa,pass\n",
    "    # Donna,D00N\n",
    "#3 Create login function that takes two inputs (name,password)   \n",
    "    #3.1 Ask the user to enter their username and password\n",
    "    #3.2 search if the names exist in the Credentials.txt file\n",
    "        #3.2.1 if the name was found, check \n",
    "            #if the password is correct\n",
    "        #3.2.2 return \"Welcome <persons name> \n",
    "            #if the name and password were correct\"\n",
    "        #3.2.3 else return \"wrong name or password\"\n",
    "    #3.2 if the name doesn't exist return \"your name doesn't exist,\n",
    "        #please create a new account\"     \n",
    "#4 Create sign_Up function that takes two inputs(newName,newPassword)\n",
    "    #Ask user to enter their name and password\n",
    "    #append the new information into the Credentials.txt file, \n",
    "        #follow the same format \"name,password\"        \n",
    "#5 Test your program by logging in using the new account"
   ]
  },
  {
   "cell_type": "code",
   "execution_count": 22,
   "id": "4bc88713",
   "metadata": {},
   "outputs": [],
   "source": [
    "with open('Credentials.txt','w') as file:\n",
    "    file.write('Name, Password\\n'\n",
    "                'Sarah, 12ssr\\n'\n",
    "                'Lisa, pass\\n'\n",
    "                'Donna, D00N')"
   ]
  },
  {
   "cell_type": "code",
   "execution_count": 23,
   "id": "bf402f75",
   "metadata": {},
   "outputs": [],
   "source": [
    "def sign_Up(newName,newPassword):\n",
    "    name = input('Enter username: ')\n",
    "    password = input('Enter password: ')\n",
    "    text = str((name, password))\n",
    "    with open('Credentials.txt','a') as file:\n",
    "        file.write(text)        "
   ]
  },
  {
   "cell_type": "code",
   "execution_count": 24,
   "id": "f7c31a57",
   "metadata": {},
   "outputs": [
    {
     "name": "stdout",
     "output_type": "stream",
     "text": [
      "Enter username: Lisa\n",
      "Enter password: pass\n",
      "Welcome Lisa\n"
     ]
    }
   ],
   "source": [
    "def login_function(name, password):\n",
    "    with open('Credentials.txt','r') as f:\n",
    "        file = f.read()\n",
    "        if name in file:\n",
    "            if password in file:\n",
    "                print('Welcome', name)\n",
    "            else:\n",
    "                print('Wrong name or password')\n",
    "        else:\n",
    "            print(\"Your name doesn't exist, please create a new account\")\n",
    "            sign_Up(name, password)\n",
    "        \n",
    "name = input('Enter username: ')\n",
    "password = input('Enter password: ')\n",
    "login_function(name,password)"
   ]
  },
  {
   "cell_type": "code",
   "execution_count": null,
   "id": "5157c442",
   "metadata": {},
   "outputs": [],
   "source": []
  }
 ],
 "metadata": {
  "kernelspec": {
   "display_name": "Python 3 (ipykernel)",
   "language": "python",
   "name": "python3"
  },
  "language_info": {
   "codemirror_mode": {
    "name": "ipython",
    "version": 3
   },
   "file_extension": ".py",
   "mimetype": "text/x-python",
   "name": "python",
   "nbconvert_exporter": "python",
   "pygments_lexer": "ipython3",
   "version": "3.9.12"
  }
 },
 "nbformat": 4,
 "nbformat_minor": 5
}
