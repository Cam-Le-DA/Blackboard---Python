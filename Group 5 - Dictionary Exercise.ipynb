{
 "cells": [
  {
   "cell_type": "code",
   "execution_count": 1,
   "id": "533f5779",
   "metadata": {},
   "outputs": [
    {
     "name": "stdout",
     "output_type": "stream",
     "text": [
      "{'A': 'Adetunji', 'B': 'Betsy', 'C': 'Cam', 'H': 'Hoi', 'M': 'Meisam', 'V': 'Victoria', 'Y': 'Yafet'}\n"
     ]
    }
   ],
   "source": [
    "#Q1 Create a dictionary for all participants in the JDA program.\n",
    "#Keys should be the first letter in their names, Values should be their names.\n",
    "#[Hint] dic={\"l\":(Leul),\"J\":(Jerry,Jainam)........}\n",
    "\n",
    "group5 = {'A':'Adetunji','B':'Betsy','C':'Cam','H':'Hoi','M':'Meisam','V':'Victoria','Y':'Yafet'}\n",
    "print(group5)"
   ]
  },
  {
   "cell_type": "code",
   "execution_count": 2,
   "id": "2c0b0b47",
   "metadata": {},
   "outputs": [
    {
     "data": {
      "text/plain": [
       "dict_keys(['A', 'B', 'C', 'H', 'M', 'V', 'Y'])"
      ]
     },
     "execution_count": 2,
     "metadata": {},
     "output_type": "execute_result"
    }
   ],
   "source": [
    "#Q2 What are the keys of your dictionary\n",
    "\n",
    "group5.keys()"
   ]
  },
  {
   "cell_type": "code",
   "execution_count": 3,
   "id": "bf8f641e",
   "metadata": {},
   "outputs": [
    {
     "data": {
      "text/plain": [
       "dict_values(['Adetunji', 'Betsy', 'Cam', 'Hoi', 'Meisam', 'Victoria', 'Yafet'])"
      ]
     },
     "execution_count": 3,
     "metadata": {},
     "output_type": "execute_result"
    }
   ],
   "source": [
    "#Q3 What are the values of your dictionary\n",
    "\n",
    "group5.values()"
   ]
  },
  {
   "cell_type": "code",
   "execution_count": 4,
   "id": "c6d9c5f2",
   "metadata": {},
   "outputs": [
    {
     "name": "stdout",
     "output_type": "stream",
     "text": [
      "None\n",
      "None\n",
      "Meisam\n",
      "Cam\n",
      "Adetunji\n"
     ]
    }
   ],
   "source": [
    "#Q4 Find participant's names that start with J,I,M,C,A\n",
    "\n",
    "print(group5.get('J'))\n",
    "print(group5.get('I'))\n",
    "print(group5.get('M'))\n",
    "print(group5.get('C'))\n",
    "print(group5.get('A'))"
   ]
  },
  {
   "cell_type": "code",
   "execution_count": 5,
   "id": "294212d4",
   "metadata": {},
   "outputs": [
    {
     "name": "stdout",
     "output_type": "stream",
     "text": [
      "{'A': 'Adetunji', 'B': 'Betsy', 'C': 'Cam', 'H': 'Hoi', 'M': 'Meisam', 'V': 'Victoria', 'Y': 'Yafet', 'K,PD': 'Kristina'}\n"
     ]
    }
   ],
   "source": [
    "#Q5 Add the following to your dictionary\n",
    "# Key<(K,PD)>, Value<(Kristina)>\n",
    "\n",
    "group5['K,PD'] = 'Kristina'\n",
    "print(group5)"
   ]
  },
  {
   "cell_type": "code",
   "execution_count": 6,
   "id": "c5d3f3e5",
   "metadata": {},
   "outputs": [
    {
     "data": {
      "text/plain": [
       "8"
      ]
     },
     "execution_count": 6,
     "metadata": {},
     "output_type": "execute_result"
    }
   ],
   "source": [
    "#Q6 Find the length of your dictionary\n",
    "\n",
    "len(group5)"
   ]
  },
  {
   "cell_type": "code",
   "execution_count": 7,
   "id": "569170d5",
   "metadata": {},
   "outputs": [
    {
     "name": "stdout",
     "output_type": "stream",
     "text": [
      "{'A': 'Adetunji', 'B': 'Betsy', 'C': 'Cam', 'H': 'Hoi', 'M': 'Meisam', 'V': 'Victoria', 'Y': 'Yafet', 'K,PD': 'Kristina', 'S,Instructor': 'Sarah'}\n"
     ]
    }
   ],
   "source": [
    "#Q7 Add the following to your dictionary\n",
    "# Key<(S,Instructor)>, Value<(Sarah)>\n",
    "\n",
    "group5['S,Instructor'] = 'Sarah'\n",
    "print(group5)"
   ]
  },
  {
   "cell_type": "code",
   "execution_count": 8,
   "id": "5f2fc077",
   "metadata": {},
   "outputs": [
    {
     "data": {
      "text/plain": [
       "9"
      ]
     },
     "execution_count": 8,
     "metadata": {},
     "output_type": "execute_result"
    }
   ],
   "source": [
    "#Q8 Find the length of your dictionary\n",
    "\n",
    "len(group5)"
   ]
  },
  {
   "cell_type": "code",
   "execution_count": 9,
   "id": "4d04a8d1",
   "metadata": {},
   "outputs": [
    {
     "name": "stdout",
     "output_type": "stream",
     "text": [
      "{'A': 'Adetunji', 'B': 'Betsy', 'C': 'Cam', 'H': 'Hoi', 'M': 'Meisam', 'V': 'Victoria', 'Y': 'Yafet', 'K,PD': 'Kristina'}\n"
     ]
    }
   ],
   "source": [
    "#Q7 Delete the following keys from your dictionary\n",
    "#Key<(S,Instructor)>\n",
    "\n",
    "group5.pop('S,Instructor')\n",
    "print(group5)"
   ]
  },
  {
   "cell_type": "code",
   "execution_count": 10,
   "id": "92762aaf",
   "metadata": {},
   "outputs": [
    {
     "ename": "KeyError",
     "evalue": "'J'",
     "output_type": "error",
     "traceback": [
      "\u001b[1;31m---------------------------------------------------------------------------\u001b[0m",
      "\u001b[1;31mKeyError\u001b[0m                                  Traceback (most recent call last)",
      "Input \u001b[1;32mIn [10]\u001b[0m, in \u001b[0;36m<cell line: 3>\u001b[1;34m()\u001b[0m\n\u001b[0;32m      1\u001b[0m \u001b[38;5;66;03m#Key<J>\u001b[39;00m\n\u001b[1;32m----> 3\u001b[0m \u001b[43mgroup5\u001b[49m\u001b[38;5;241;43m.\u001b[39;49m\u001b[43mpop\u001b[49m\u001b[43m(\u001b[49m\u001b[38;5;124;43m\"\u001b[39;49m\u001b[38;5;124;43mJ\u001b[39;49m\u001b[38;5;124;43m\"\u001b[39;49m\u001b[43m)\u001b[49m\n",
      "\u001b[1;31mKeyError\u001b[0m: 'J'"
     ]
    }
   ],
   "source": [
    "#Key<J>\n",
    "\n",
    "group5.pop(\"J\")"
   ]
  },
  {
   "cell_type": "code",
   "execution_count": 11,
   "id": "2a5c7def",
   "metadata": {},
   "outputs": [
    {
     "data": {
      "text/plain": [
       "8"
      ]
     },
     "execution_count": 11,
     "metadata": {},
     "output_type": "execute_result"
    }
   ],
   "source": [
    "#Q9 Find the length of your dictionary\n",
    "\n",
    "len(group5)"
   ]
  },
  {
   "cell_type": "code",
   "execution_count": 12,
   "id": "440b31b1",
   "metadata": {},
   "outputs": [],
   "source": [
    "#Q10 Create a new dictionary called synonyms_dic\n",
    "\n",
    "synonyms_dic = {}"
   ]
  },
  {
   "cell_type": "code",
   "execution_count": 13,
   "id": "c40abf82",
   "metadata": {},
   "outputs": [
    {
     "name": "stdout",
     "output_type": "stream",
     "text": [
      "{'Bad': 'Poor', 'Good': 'Nice', 'Awesome': 'Wonderful', 'Cold': 'Chill', 'Easy': 'Simple', 'Hard': 'Difficult', 'Big': 'Large', 'Small': 'Tiny'}\n"
     ]
    }
   ],
   "source": [
    "#Q11 Add the synonyms of the following words to your dictionary\n",
    "#Bad, Good, Awesome, Cold, Easy, Hard, Big, Small\n",
    "\n",
    "keys = ['Bad','Good','Awesome','Cold','Easy','Hard','Big','Small']\n",
    "values = ['Poor','Nice','Wonderful','Chill','Simple','Difficult','Large','Tiny']\n",
    "\n",
    "for x in keys:\n",
    "    for y in values:\n",
    "        synonyms_dic[x] = y\n",
    "        values.remove(y)\n",
    "        break\n",
    "\n",
    "print(synonyms_dic)\n"
   ]
  },
  {
   "cell_type": "code",
   "execution_count": 14,
   "id": "55717a4b",
   "metadata": {},
   "outputs": [
    {
     "name": "stdout",
     "output_type": "stream",
     "text": [
      "Wonderful\n",
      "Simple\n",
      "Tiny\n"
     ]
    },
    {
     "ename": "KeyError",
     "evalue": "'Old'",
     "output_type": "error",
     "traceback": [
      "\u001b[1;31m---------------------------------------------------------------------------\u001b[0m",
      "\u001b[1;31mKeyError\u001b[0m                                  Traceback (most recent call last)",
      "Input \u001b[1;32mIn [14]\u001b[0m, in \u001b[0;36m<cell line: 5>\u001b[1;34m()\u001b[0m\n\u001b[0;32m      4\u001b[0m keys \u001b[38;5;241m=\u001b[39m [\u001b[38;5;124m'\u001b[39m\u001b[38;5;124mAwesome\u001b[39m\u001b[38;5;124m'\u001b[39m,\u001b[38;5;124m'\u001b[39m\u001b[38;5;124mEasy\u001b[39m\u001b[38;5;124m'\u001b[39m,\u001b[38;5;124m'\u001b[39m\u001b[38;5;124mSmall\u001b[39m\u001b[38;5;124m'\u001b[39m,\u001b[38;5;124m'\u001b[39m\u001b[38;5;124mOld\u001b[39m\u001b[38;5;124m'\u001b[39m]\n\u001b[0;32m      5\u001b[0m \u001b[38;5;28;01mfor\u001b[39;00m x \u001b[38;5;129;01min\u001b[39;00m keys:\n\u001b[1;32m----> 6\u001b[0m     \u001b[38;5;28mprint\u001b[39m(\u001b[43msynonyms_dic\u001b[49m\u001b[43m[\u001b[49m\u001b[43mx\u001b[49m\u001b[43m]\u001b[49m)\n",
      "\u001b[1;31mKeyError\u001b[0m: 'Old'"
     ]
    }
   ],
   "source": [
    "#Q12 Use your dictionary to find the synonym of the following words\n",
    "# Awesome, Easy, Small, Old\n",
    "\n",
    "keys = ['Awesome','Easy','Small','Old']\n",
    "for x in keys:\n",
    "    print(synonyms_dic[x])"
   ]
  },
  {
   "cell_type": "code",
   "execution_count": 15,
   "id": "0cd7c80a",
   "metadata": {},
   "outputs": [
    {
     "name": "stdout",
     "output_type": "stream",
     "text": [
      "{}\n"
     ]
    }
   ],
   "source": [
    "#Q13 Delete everything from synonyms_dic\n",
    "synonyms_dic.clear()\n",
    "\n",
    "#Q14 Print all values in synonyms_dic\n",
    "print(synonyms_dic)"
   ]
  },
  {
   "cell_type": "code",
   "execution_count": 16,
   "id": "a2f30a07",
   "metadata": {},
   "outputs": [
    {
     "name": "stdout",
     "output_type": "stream",
     "text": [
      "{'True': 1, 'False': 0}\n"
     ]
    }
   ],
   "source": [
    "#Q15 Convert the below two lists into dictionary\n",
    "Keys=[\"True\",\"False\"]\n",
    "Values=[1,0]\n",
    "\n",
    "mydic = {}\n",
    "for key in Keys:\n",
    "    for value in Values:\n",
    "        mydic[key] = value\n",
    "        Values.remove(value)\n",
    "        break\n",
    "print(mydic)"
   ]
  },
  {
   "cell_type": "code",
   "execution_count": 17,
   "id": "15d19fe1",
   "metadata": {},
   "outputs": [
    {
     "data": {
      "text/plain": [
       "4480"
      ]
     },
     "execution_count": 17,
     "metadata": {},
     "output_type": "execute_result"
    }
   ],
   "source": [
    "#Q16 Sum all the values in the following dictionary\n",
    "income={'Jan':1000,'Feb':1500,'Mar':980,'April':1000}\n",
    "\n",
    "values = income.values()\n",
    "sum(values)"
   ]
  },
  {
   "cell_type": "code",
   "execution_count": 18,
   "id": "31f3192c",
   "metadata": {},
   "outputs": [
    {
     "name": "stdout",
     "output_type": "stream",
     "text": [
      "encryption word of 110 is I\n",
      "encryption word of 101 is am\n",
      "encryption word of 10 is hungry\n",
      "encryption word of 1011 is and\n",
      "encryption word of 110 is I\n",
      "encryption word of 1001 is want\n",
      "encryption word of 1101 is food\n",
      "encryption word of 11011 is now\n"
     ]
    }
   ],
   "source": [
    "#Q17 Create the following dictionary encryption={10:\"hungry\", 101:\"am\", 110:\"I\",1011:\" \" 110:\" \" 1001:\" \" 1:\" \"}\n",
    "# What should be the decryption of the following code \"110 101 10 1011 110 1001 1\"\n",
    "\n",
    "encryption={10:\"hungry\", 101:\"am\", 1001:\"want\",1101:\"food\",110:\"I\",1011:\"and\", 11011:\"now\"}\n",
    "keys = [ 110, 101, 10, 1011, 110, 1001, 1101, 11011]\n",
    "\n",
    "for key in keys:\n",
    "    print(\"encryption word of {} is\".format(key) + \" \" + encryption[key])"
   ]
  },
  {
   "cell_type": "code",
   "execution_count": null,
   "id": "620d5595",
   "metadata": {},
   "outputs": [],
   "source": []
  }
 ],
 "metadata": {
  "kernelspec": {
   "display_name": "Python 3 (ipykernel)",
   "language": "python",
   "name": "python3"
  },
  "language_info": {
   "codemirror_mode": {
    "name": "ipython",
    "version": 3
   },
   "file_extension": ".py",
   "mimetype": "text/x-python",
   "name": "python",
   "nbconvert_exporter": "python",
   "pygments_lexer": "ipython3",
   "version": "3.9.12"
  }
 },
 "nbformat": 4,
 "nbformat_minor": 5
}
