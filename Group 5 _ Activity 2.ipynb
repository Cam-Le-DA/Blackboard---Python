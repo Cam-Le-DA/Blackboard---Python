{
 "cells": [
  {
   "cell_type": "code",
   "execution_count": 1,
   "id": "b72992dd",
   "metadata": {},
   "outputs": [
    {
     "name": "stdout",
     "output_type": "stream",
     "text": [
      "3.9.12 (main, Apr  4 2022, 05:22:27) [MSC v.1916 64 bit (AMD64)]\n"
     ]
    }
   ],
   "source": [
    "#Write a Python code to return your Python version\n",
    "\n",
    "import sys\n",
    "print(sys.version)"
   ]
  },
  {
   "cell_type": "code",
   "execution_count": 2,
   "id": "60505fbd",
   "metadata": {},
   "outputs": [
    {
     "name": "stdout",
     "output_type": "stream",
     "text": [
      "customer id = 513\n"
     ]
    }
   ],
   "source": [
    "#Write a Python code to declare variable id=\"513\".\n",
    "#Print the following statement \"customer id =513\". [Don't use print(\"customer id\n",
    "id = '513'\n",
    "print('customer id =',id)"
   ]
  },
  {
   "cell_type": "code",
   "execution_count": 3,
   "id": "eaa224e3",
   "metadata": {},
   "outputs": [
    {
     "ename": "TypeError",
     "evalue": "can only concatenate str (not \"int\") to str",
     "output_type": "error",
     "traceback": [
      "\u001b[1;31m---------------------------------------------------------------------------\u001b[0m",
      "\u001b[1;31mTypeError\u001b[0m                                 Traceback (most recent call last)",
      "Input \u001b[1;32mIn [3]\u001b[0m, in \u001b[0;36m<cell line: 1>\u001b[1;34m()\u001b[0m\n\u001b[1;32m----> 1\u001b[0m \u001b[38;5;28mid\u001b[39m \u001b[38;5;241m=\u001b[39m \u001b[38;5;28;43mid\u001b[39;49m\u001b[43m \u001b[49m\u001b[38;5;241;43m+\u001b[39;49m\u001b[43m \u001b[49m\u001b[38;5;241;43m1\u001b[39;49m\n",
      "\u001b[1;31mTypeError\u001b[0m: can only concatenate str (not \"int\") to str"
     ]
    }
   ],
   "source": [
    "#Run the following statement, why there is an error\n",
    "id = id + 1"
   ]
  },
  {
   "cell_type": "code",
   "execution_count": 4,
   "id": "71bd9bf7",
   "metadata": {},
   "outputs": [
    {
     "data": {
      "text/plain": [
       "514"
      ]
     },
     "execution_count": 4,
     "metadata": {},
     "output_type": "execute_result"
    }
   ],
   "source": [
    "#Convert the variable id into an integer, increment it by 1.\n",
    "#Assign the result to variable new_id.\n",
    "#Print the new_id\n",
    "\n",
    "new_id = int(id) + 1\n",
    "new_id"
   ]
  },
  {
   "cell_type": "code",
   "execution_count": 2,
   "id": "3324ddcd",
   "metadata": {},
   "outputs": [
    {
     "name": "stdout",
     "output_type": "stream",
     "text": [
      "Twinkle, twinkle, little star,\n",
      " \t How I wonder what you are! \n",
      " \t \t Up above the world so high, \n",
      " \t \t \t Like a diamond in the sky.\n"
     ]
    }
   ],
   "source": [
    "#Write a Python code to print the following string in a specific format (see the\n",
    "# Twinkle, twinkle, little star,\n",
    "# How I wonder what you are!\n",
    "# Up above the world so high,\n",
    "# Like a diamond in the sky.\n",
    "\n",
    "print('Twinkle, twinkle, little star,\\n \\t How I wonder what you are! \\n \\t \\t Up above the world so high, \\n \\t \\t \\t Like a diamond in the sky.')"
   ]
  },
  {
   "cell_type": "code",
   "execution_count": 6,
   "id": "b298fce4",
   "metadata": {},
   "outputs": [
    {
     "name": "stdout",
     "output_type": "stream",
     "text": [
      "P\n"
     ]
    }
   ],
   "source": [
    "#Givin the following string variable, # Print the first element in the string\n",
    "\n",
    "course = \"Python for Data Science\"\n",
    "print(course[0])"
   ]
  },
  {
   "cell_type": "code",
   "execution_count": 7,
   "id": "45e1c3fe",
   "metadata": {},
   "outputs": [
    {
     "data": {
      "text/plain": [
       "'t'"
      ]
     },
     "execution_count": 7,
     "metadata": {},
     "output_type": "execute_result"
    }
   ],
   "source": [
    "# Print the element on the 13th index in the string\n",
    "\n",
    "course[13]"
   ]
  },
  {
   "cell_type": "code",
   "execution_count": 8,
   "id": "37c4bba5",
   "metadata": {},
   "outputs": [
    {
     "data": {
      "text/plain": [
       "23"
      ]
     },
     "execution_count": 8,
     "metadata": {},
     "output_type": "execute_result"
    }
   ],
   "source": [
    "# Find the length of string\n",
    "len(course)"
   ]
  },
  {
   "cell_type": "code",
   "execution_count": 9,
   "id": "d831b8a9",
   "metadata": {},
   "outputs": [
    {
     "data": {
      "text/plain": [
       "'e'"
      ]
     },
     "execution_count": 9,
     "metadata": {},
     "output_type": "execute_result"
    }
   ],
   "source": [
    "# Print the last element in the string [use negative index]\n",
    "course[-1]"
   ]
  },
  {
   "cell_type": "code",
   "execution_count": 10,
   "id": "a1ff5930",
   "metadata": {},
   "outputs": [
    {
     "data": {
      "text/plain": [
       "'Data'"
      ]
     },
     "execution_count": 10,
     "metadata": {},
     "output_type": "execute_result"
    }
   ],
   "source": [
    "# Take the slice on variable course with only index 11 to index 14\n",
    "course[11:15]"
   ]
  },
  {
   "cell_type": "code",
   "execution_count": 11,
   "id": "b292174c",
   "metadata": {},
   "outputs": [
    {
     "data": {
      "text/plain": [
       "'Ph ra i'"
      ]
     },
     "execution_count": 11,
     "metadata": {},
     "output_type": "execute_result"
    }
   ],
   "source": [
    "# Get every third element in the range from index 0 to index 20\n",
    "course[0:21:3]"
   ]
  },
  {
   "cell_type": "code",
   "execution_count": 13,
   "id": "bf519484",
   "metadata": {},
   "outputs": [
    {
     "data": {
      "text/plain": [
       "'Python for Data Science, AI & Development'"
      ]
     },
     "execution_count": 13,
     "metadata": {},
     "output_type": "execute_result"
    }
   ],
   "source": [
    "# Concatenate course string with \", AI & Development\"\n",
    "\n",
    "new_course = course + ', AI & Development'\n",
    "new_course"
   ]
  },
  {
   "cell_type": "code",
   "execution_count": 15,
   "id": "9bdeae4f",
   "metadata": {},
   "outputs": [
    {
     "data": {
      "text/plain": [
       "'Python_for_Data_Science,_AI_&_Development'"
      ]
     },
     "execution_count": 15,
     "metadata": {},
     "output_type": "execute_result"
    }
   ],
   "source": [
    "# Replace all the spaces with (_). New string should looks like\"Python_for_Data_S\n",
    "new_course.replace(' ','_')"
   ]
  },
  {
   "cell_type": "code",
   "execution_count": 16,
   "id": "c6c71852",
   "metadata": {},
   "outputs": [
    {
     "data": {
      "text/plain": [
       "'PYTHON FOR DATA SCIENCE, AI & DEVELOPMENT'"
      ]
     },
     "execution_count": 16,
     "metadata": {},
     "output_type": "execute_result"
    }
   ],
   "source": [
    "# Convert all the characters in string to upper case\n",
    "new_course.upper()"
   ]
  },
  {
   "cell_type": "code",
   "execution_count": null,
   "id": "2b5505e0",
   "metadata": {},
   "outputs": [],
   "source": []
  }
 ],
 "metadata": {
  "kernelspec": {
   "display_name": "Python 3 (ipykernel)",
   "language": "python",
   "name": "python3"
  },
  "language_info": {
   "codemirror_mode": {
    "name": "ipython",
    "version": 3
   },
   "file_extension": ".py",
   "mimetype": "text/x-python",
   "name": "python",
   "nbconvert_exporter": "python",
   "pygments_lexer": "ipython3",
   "version": "3.9.12"
  }
 },
 "nbformat": 4,
 "nbformat_minor": 5
}
