{
 "cells": [
  {
   "cell_type": "code",
   "execution_count": 1,
   "id": "acb002a7",
   "metadata": {},
   "outputs": [
    {
     "name": "stdout",
     "output_type": "stream",
     "text": [
      "Enter the first value: 1\n",
      "Enter the second value: 2\n",
      "The sum value is: 3\n"
     ]
    }
   ],
   "source": [
    "#Q1 Write Python function that takes two inputs\n",
    "#and return their sum value\n",
    "def mysum(a,b):\n",
    "    result = a + b\n",
    "    print('The sum value is:', result)\n",
    "\n",
    "a = int(input('Enter the first value: '))\n",
    "b = int(input('Enter the second value: '))\n",
    "\n",
    "mysum(a,b)"
   ]
  },
  {
   "cell_type": "code",
   "execution_count": 2,
   "id": "e0007b03",
   "metadata": {},
   "outputs": [
    {
     "name": "stdout",
     "output_type": "stream",
     "text": [
      "Enter a celsius temperature: 35\n",
      "The fahrenheit is:  95.0\n"
     ]
    }
   ],
   "source": [
    "#Q2 Write Python function the takes a celsius temprature\n",
    "#and converts it into fahrenheit\n",
    "\n",
    "def temp_convert(x):\n",
    "    y = (x * 9/5) + 32\n",
    "    print('The fahrenheit is: ', y)\n",
    "\n",
    "x = int(input('Enter a celsius temperature: '))\n",
    "temp_convert(x)"
   ]
  },
  {
   "cell_type": "code",
   "execution_count": 3,
   "id": "58223493",
   "metadata": {},
   "outputs": [
    {
     "name": "stdout",
     "output_type": "stream",
     "text": [
      "Enter the first value: 1\n",
      "Enter the second value: 5\n",
      "Enter the third value: 8\n",
      "The max value is:  8\n"
     ]
    }
   ],
   "source": [
    "#Q3 Write a Python function to find the Max of three numbers\n",
    "\n",
    "def maxfunc(a,b,c):\n",
    "    print('The max value is: ', max(a,b,c))\n",
    "    \n",
    "a = int(input('Enter the first value: '))\n",
    "b = int(input('Enter the second value: '))\n",
    "c = int(input('Enter the third value: '))\n",
    "\n",
    "maxfunc(a,b,c)"
   ]
  },
  {
   "cell_type": "code",
   "execution_count": 4,
   "id": "3d192354",
   "metadata": {},
   "outputs": [
    {
     "name": "stdout",
     "output_type": "stream",
     "text": [
      "Enter a number: 6\n",
      "Yes, this number is in the given range\n"
     ]
    }
   ],
   "source": [
    "#Q4 Write a Python function to check whether a number\n",
    "#is in a given range [5,12]\n",
    "\n",
    "def finditem(x):\n",
    "    if x in  range(5,12):\n",
    "        print('Yes, this number is in the given range')\n",
    "    else:\n",
    "        print('No, this number is NOT in the given range')\n",
    "        \n",
    "x = int(input('Enter a number: '))\n",
    "finditem(x)"
   ]
  },
  {
   "cell_type": "code",
   "execution_count": 5,
   "id": "5c8326aa",
   "metadata": {},
   "outputs": [
    {
     "name": "stdout",
     "output_type": "stream",
     "text": [
      "Enter the number of elements: 4\n",
      "Enter an element: \n",
      "1\n",
      "Enter an element: \n",
      "1\n",
      "Enter an element: \n",
      "3\n",
      "Enter an element: \n",
      "9\n",
      "A new list with unique elements is:  [1, 3, 9]\n"
     ]
    }
   ],
   "source": [
    "#Q5 Write a Python function that takes a list\n",
    "#and returns a new list with unique elements of the first\n",
    "\n",
    "# Sample_List = [1,2,3,3,3,3,4,5]\n",
    "\n",
    "def myfunc(list1):\n",
    "    myset = set(())\n",
    "    for i in range(len(list1)):\n",
    "        myset.add(list1[i])\n",
    "        \n",
    "    print('A new list with unique elements is: ', list(myset))\n",
    "    \n",
    "n = int(input('Enter the number of elements: '))\n",
    "list1 = []\n",
    "for i in range(n):\n",
    "    print('Enter an element: ')\n",
    "    list1.append(int(input()))\n",
    "myfunc(list1)"
   ]
  },
  {
   "cell_type": "code",
   "execution_count": 6,
   "id": "cb0ac7dc",
   "metadata": {},
   "outputs": [
    {
     "name": "stdout",
     "output_type": "stream",
     "text": [
      "True\n",
      "False\n",
      "True\n"
     ]
    }
   ],
   "source": [
    "#Q6 Given a list of numbers, return True if first\n",
    "#and last number of a list is same\n",
    "list1=[1,2,5,4,1]\n",
    "list2=[5,6,3,2,1]\n",
    "list3=[88,44,55,66,77,88]\n",
    "\n",
    "def checklist(list1):\n",
    "    if list1[0] == list1[-1]:\n",
    "        print('True')\n",
    "    else:\n",
    "        print('False')\n",
    "\n",
    "checklist(list1)\n",
    "checklist(list2)\n",
    "checklist(list3)"
   ]
  },
  {
   "cell_type": "code",
   "execution_count": null,
   "id": "11a45ab5",
   "metadata": {},
   "outputs": [],
   "source": []
  }
 ],
 "metadata": {
  "kernelspec": {
   "display_name": "Python 3 (ipykernel)",
   "language": "python",
   "name": "python3"
  },
  "language_info": {
   "codemirror_mode": {
    "name": "ipython",
    "version": 3
   },
   "file_extension": ".py",
   "mimetype": "text/x-python",
   "name": "python",
   "nbconvert_exporter": "python",
   "pygments_lexer": "ipython3",
   "version": "3.9.12"
  }
 },
 "nbformat": 4,
 "nbformat_minor": 5
}
